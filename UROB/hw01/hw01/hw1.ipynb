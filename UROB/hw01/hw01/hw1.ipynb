{
 "cells": [
  {
   "cell_type": "markdown",
   "metadata": {},
   "source": [
    "# TASK 1 - Complete implementation of vectorized minigrad (6 points)\n",
    "In the first task it is your goal to finalize the implementation of the provided autograd library. This library is similar to the one we developed during the lesson but it uses numpy to vectorize the calculation.\n",
    "\n",
    "Once the library is finalized, it will be your task to use it for the following tasks."
   ]
  },
  {
   "cell_type": "code",
   "execution_count": 1,
   "metadata": {
    "ExecuteTime": {
     "end_time": "2023-10-12T09:15:18.660010Z",
     "start_time": "2023-10-12T09:15:17.830227Z"
    }
   },
   "outputs": [],
   "source": [
    "import timeit\n",
    "import matplotlib\n",
    "import numpy as np\n",
    "import matplotlib.pyplot as plt\n",
    "\n",
    "from utils import generate_task, visualize_manipulator, to_numpy\n",
    "from assignments import dkt, dkt_vectorized, manipulator_loss\n",
    "\n",
    "%matplotlib inline\n",
    "plt.rcParams['figure.figsize'] = (10.0, 8.0) # set default size of plots\n",
    "plt.rcParams['image.interpolation'] = 'nearest'\n",
    "plt.rcParams['image.cmap'] = 'gray'\n",
    "\n",
    "# for auto-reloading external modules\n",
    "# see http://stackoverflow.com/questions/1907993/autoreload-of-modules-in-ipython\n",
    "%load_ext autoreload\n",
    "%autoreload 2"
   ]
  },
  {
   "attachments": {},
   "cell_type": "markdown",
   "metadata": {},
   "source": [
    "# TASK 2.1 - Implement DKT (2 points)\n",
    "First, you will implement a function that calculates: “Positions of all joints and the end-effector ($X$), given joints angles ($\\omega$), link lengths ($\\rho$) and base angle and distance from origin ($base$) ”. This function will later help you to find the joint angles needed to move the end effector to desired position. We will use SGD (Stochastic gradient descent) to find desired position of the end-effector.\n",
    "\n",
    "In general, you can use arbitrary architecture such as a 100-degree polynomial, fully connected neural network, or deep convolutional network and train its parameters to predict positions observed on the real manipulator; however, it is advisable to exploit the knowledge of the underlying kinematic structure. This task is called the Direct Kinematic Task (DKT).\n",
    "\n",
    "##### For this task implement `dkt()` and `manipulator_loss()` to get 1 points.\n"
   ]
  },
  {
   "cell_type": "code",
   "execution_count": 2,
   "metadata": {
    "ExecuteTime": {
     "end_time": "2023-10-12T09:15:19.118767200Z",
     "start_time": "2023-10-12T09:15:18.660010Z"
    }
   },
   "outputs": [
    {
     "name": "stdout",
     "output_type": "stream",
     "text": [
      "Joint angles: [Tensor(data=0.5417247768253932, grad=0.0, label=omega0), Tensor(data=-0.7401071763239765, grad=0.0, label=omega1), Tensor(data=0.6907338051554843, grad=0.0, label=omega2), Tensor(data=-0.9752870448913488, grad=0.0, label=omega3), Tensor(data=1.564747165795886, grad=0.0, label=omega4)]\n",
      "Link lengths: [Tensor(data=1.0, grad=0.0, label=rho0), Tensor(data=1.0, grad=0.0, label=rho1), Tensor(data=1.0, grad=0.0, label=rho2), Tensor(data=1.0, grad=0.0, label=rho3), Tensor(data=1.0, grad=0.0, label=rho4)]\n",
      "Base angle and length: [ 0.000  0.000]\n",
      "Goal coordinates: [ 2.922  6.405]\n"
     ]
    },
    {
     "data": {
      "text/plain": "<Figure size 1000x800 with 1 Axes>",
      "image/png": "[encoded data removed]"
     },
     "metadata": {},
     "output_type": "display_data"
    }
   ],
   "source": [
    "# Generate data for the task\n",
    "NUMBER_OF_JOINTS = 5\n",
    "omega, rho, base, x_goal = generate_task(NUMBER_OF_JOINTS)\n",
    "\n",
    "# Save initial state for repeatability\n",
    "old_omega, old_rho = omega.copy(), rho.copy()\n",
    "\n",
    "# Let's take a look at the data\n",
    "print(f'Joint angles: {omega}')\n",
    "print(f'Link lengths: {rho}')\n",
    "print(f'Base angle and length: {base}')\n",
    "print(f'Goal coordinates: {x_goal}')\n",
    "\n",
    "# Plot the base with the goal and random manipulator position\n",
    "X_rand = np.concatenate((np.zeros((2,1)), np.random.rand(2, NUMBER_OF_JOINTS)), axis=1)\n",
    "visualize_manipulator(X_rand, x_goal)"
   ]
  },
  {
   "attachments": {},
   "cell_type": "markdown",
   "metadata": {},
   "source": [
    "## Direct Kinematic Task\n",
    "\n",
    "Our inputs are 3 vectors. First is $\\omega$ which represents relative angle of the joints. Second is $\\rho$ which represents length of the links. The third is *base* which represents $[\\omega_0 \\quad \\rho_0]$ with respect to origin.\n",
    "$$\n",
    "\\omega = \\begin{bmatrix} \\omega_1 \\\\ \\omega_2 \\\\ \\vdots \\\\ \\omega_n \\end{bmatrix}, \\quad\n",
    "\\rho = \\begin{bmatrix} \\rho_1 \\\\ \\rho_2 \\\\ \\vdots \\\\ \\rho_n \\end{bmatrix}, \\quad\n",
    "base = \\begin{bmatrix} \\omega_0 \\\\ \\rho_0 \\end{bmatrix}\n",
    "$$\n",
    "\n",
    "<br/>\n",
    "<img src=\"images/dkt.png\" width=660 height=336 align=\"center\"/>\n",
    "<br/>\n",
    "\n",
    "We can calculate the joint positions using equations\n",
    "\n",
    "$$\n",
    "\\varphi_k = \\omega_0 + \\omega_1 + \\omega_2 + \\ldots + \\omega_k \\\\\n",
    "x_{k+1} = f_1(x_k,\\;\\rho_k,\\;\\varphi_k) \\\\\n",
    "y_{k+1} = f_2(y_k,\\;\\rho_k,\\;\\varphi_k) \\\\\n",
    "$$\n",
    "\n",
    "After you implement functions $f_1$ and $f_2$ the output is\n",
    "\n",
    "$$\n",
    "X = \\begin{bmatrix} x_0 & x_1 & \\ldots & x_n \\\\ y_0 & y_1 & \\ldots & y_n \\end{bmatrix}\n",
    "$$"
   ]
  },
  {
   "cell_type": "code",
   "execution_count": 3,
   "metadata": {
    "ExecuteTime": {
     "end_time": "2023-10-12T09:15:20.051533700Z",
     "start_time": "2023-10-12T09:15:18.958288500Z"
    }
   },
   "outputs": [
    {
     "ename": "ValueError",
     "evalue": "operands could not be broadcast together with shapes (2,) (6,) ",
     "output_type": "error",
     "traceback": [
      "\u001B[1;31m---------------------------------------------------------------------------\u001B[0m",
      "\u001B[1;31mValueError\u001B[0m                                Traceback (most recent call last)",
      "Cell \u001B[1;32mIn[3], line 21\u001B[0m\n\u001B[0;32m     15\u001B[0m X \u001B[38;5;241m=\u001B[39m dkt(omega, rho, base)\n\u001B[0;32m     16\u001B[0m \u001B[38;5;66;03m#----------------------------------------------------------\u001B[39;00m\n\u001B[0;32m     17\u001B[0m \n\u001B[0;32m     18\u001B[0m \u001B[38;5;66;03m# Compute loss\u001B[39;00m\n\u001B[0;32m     19\u001B[0m \u001B[38;5;66;03m#----------------------------------------------------------\u001B[39;00m\n\u001B[0;32m     20\u001B[0m \u001B[38;5;66;03m# TODO: implement manipulator_loss function\u001B[39;00m\n\u001B[1;32m---> 21\u001B[0m loss \u001B[38;5;241m=\u001B[39m \u001B[43mmanipulator_loss\u001B[49m\u001B[43m(\u001B[49m\u001B[43mX\u001B[49m\u001B[43m,\u001B[49m\u001B[43m \u001B[49m\u001B[43mx_goal\u001B[49m\u001B[43m)\u001B[49m\n\u001B[0;32m     22\u001B[0m \u001B[38;5;66;03m#----------------------------------------------------------\u001B[39;00m\n\u001B[0;32m     23\u001B[0m \n\u001B[0;32m     24\u001B[0m \u001B[38;5;66;03m# Compute gradient\u001B[39;00m\n\u001B[0;32m     25\u001B[0m loss\u001B[38;5;241m.\u001B[39mbackward()\n",
      "File \u001B[1;32m~\\cvut_code\\UROB\\hw01\\hw01\\assignments.py:106\u001B[0m, in \u001B[0;36mmanipulator_loss\u001B[1;34m(X, x_goal)\u001B[0m\n\u001B[0;32m     91\u001B[0m \u001B[38;5;124;03m\"\"\"Manipulator loss\u001B[39;00m\n\u001B[0;32m     92\u001B[0m \n\u001B[0;32m     93\u001B[0m \u001B[38;5;124;03mArgs:\u001B[39;00m\n\u001B[1;32m   (...)\u001B[0m\n\u001B[0;32m    100\u001B[0m \u001B[38;5;124;03mHint: You can add another arguments to this function if you want to, but it is not necessary\u001B[39;00m\n\u001B[0;32m    101\u001B[0m \u001B[38;5;124;03m\"\"\"\u001B[39;00m\n\u001B[0;32m    103\u001B[0m \u001B[38;5;66;03m# TODO: Implement loss function\u001B[39;00m\n\u001B[0;32m    104\u001B[0m \u001B[38;5;66;03m# -------------------------------------------------\u001B[39;00m\n\u001B[0;32m    105\u001B[0m \u001B[38;5;66;03m# START OF YOUR CODE\u001B[39;00m\n\u001B[1;32m--> 106\u001B[0m loss \u001B[38;5;241m=\u001B[39m (\u001B[43mTensor\u001B[49m\u001B[43m(\u001B[49m\u001B[43mx_goal\u001B[49m\u001B[43m)\u001B[49m\u001B[38;5;241;43m.\u001B[39;49m\u001B[43mT\u001B[49m\u001B[43m(\u001B[49m\u001B[43m)\u001B[49m\u001B[43m \u001B[49m\u001B[38;5;241;43m-\u001B[39;49m\u001B[43m \u001B[49m\u001B[43mTensor\u001B[49m\u001B[43m(\u001B[49m\u001B[43mX\u001B[49m\u001B[43m)\u001B[49m)\u001B[38;5;241m.\u001B[39msum() \u001B[38;5;241m*\u001B[39m\u001B[38;5;241m*\u001B[39m \u001B[38;5;241m2\u001B[39m\n\u001B[0;32m    108\u001B[0m \u001B[38;5;66;03m# -------------------------------------------------\u001B[39;00m\n\u001B[0;32m    109\u001B[0m \u001B[38;5;28;01mreturn\u001B[39;00m loss\n",
      "File \u001B[1;32m~\\cvut_code\\UROB\\hw01\\hw01\\engine.py:142\u001B[0m, in \u001B[0;36mTensor.__sub__\u001B[1;34m(self, other)\u001B[0m\n\u001B[0;32m    141\u001B[0m \u001B[38;5;28;01mdef\u001B[39;00m \u001B[38;5;21m__sub__\u001B[39m(\u001B[38;5;28mself\u001B[39m, other) \u001B[38;5;241m-\u001B[39m\u001B[38;5;241m>\u001B[39m \u001B[38;5;124m'\u001B[39m\u001B[38;5;124mTensor\u001B[39m\u001B[38;5;124m'\u001B[39m:\n\u001B[1;32m--> 142\u001B[0m     \u001B[38;5;28;01mreturn\u001B[39;00m \u001B[38;5;28;43mself\u001B[39;49m\u001B[43m \u001B[49m\u001B[38;5;241;43m+\u001B[39;49m\u001B[43m \u001B[49m\u001B[43m(\u001B[49m\u001B[38;5;241;43m-\u001B[39;49m\u001B[43mother\u001B[49m\u001B[43m)\u001B[49m\n",
      "File \u001B[1;32m~\\cvut_code\\UROB\\hw01\\hw01\\engine.py:93\u001B[0m, in \u001B[0;36mTensor.__add__\u001B[1;34m(self, other)\u001B[0m\n\u001B[0;32m     91\u001B[0m \u001B[38;5;28;01mdef\u001B[39;00m \u001B[38;5;21m__add__\u001B[39m(\u001B[38;5;28mself\u001B[39m, other) \u001B[38;5;241m-\u001B[39m\u001B[38;5;241m>\u001B[39m \u001B[38;5;124m'\u001B[39m\u001B[38;5;124mTensor\u001B[39m\u001B[38;5;124m'\u001B[39m:\n\u001B[0;32m     92\u001B[0m     other \u001B[38;5;241m=\u001B[39m other \u001B[38;5;28;01mif\u001B[39;00m \u001B[38;5;28misinstance\u001B[39m(other, Tensor) \u001B[38;5;28;01melse\u001B[39;00m Tensor(other)\n\u001B[1;32m---> 93\u001B[0m     out \u001B[38;5;241m=\u001B[39m Tensor(\u001B[38;5;28;43mself\u001B[39;49m\u001B[38;5;241;43m.\u001B[39;49m\u001B[43mdata\u001B[49m\u001B[43m \u001B[49m\u001B[38;5;241;43m+\u001B[39;49m\u001B[43m \u001B[49m\u001B[43mother\u001B[49m\u001B[38;5;241;43m.\u001B[39;49m\u001B[43mdata\u001B[49m, (\u001B[38;5;28mself\u001B[39m, other), \u001B[38;5;124m'\u001B[39m\u001B[38;5;124m+\u001B[39m\u001B[38;5;124m'\u001B[39m)\n\u001B[0;32m     95\u001B[0m     \u001B[38;5;28;01mdef\u001B[39;00m \u001B[38;5;21m_backward\u001B[39m():\n\u001B[0;32m     96\u001B[0m         \u001B[38;5;28mself\u001B[39m\u001B[38;5;241m.\u001B[39mgrad \u001B[38;5;241m+\u001B[39m\u001B[38;5;241m=\u001B[39m \u001B[38;5;241m1\u001B[39m \u001B[38;5;241m*\u001B[39m out\u001B[38;5;241m.\u001B[39mgrad\n",
      "\u001B[1;31mValueError\u001B[0m: operands could not be broadcast together with shapes (2,) (6,) "
     ]
    }
   ],
   "source": [
    "# Change matplotlib backend for animation\n",
    "matplotlib.use('Qt5Agg')\n",
    "\n",
    "# Parameters (PLAY WITH THEM!!!)\n",
    "# ------------- PLAY TIME -------------\n",
    "learning_rate = 0.003\n",
    "n_iterations = 200\n",
    "# -------------------------------------\n",
    "\n",
    "for i in range(n_iterations):\n",
    "\n",
    "    # Compute positions of the joints\n",
    "    #----------------------------------------------------------\n",
    "    # TODO: implement dkt function\n",
    "    X = dkt(omega, rho, base)\n",
    "    #----------------------------------------------------------\n",
    "\n",
    "    # Compute loss\n",
    "    #----------------------------------------------------------\n",
    "    # TODO: implement manipulator_loss function\n",
    "    loss = manipulator_loss(X, x_goal)\n",
    "    #----------------------------------------------------------\n",
    "\n",
    "    # Compute gradient\n",
    "    loss.backward()\n",
    "\n",
    "    # Make an optimization step and reset the gradient\n",
    "    loss.step(learning_rate)\n",
    "    loss.zero_grad()\n",
    "\n",
    "    print(f'Iteration: {i}, loss = {loss.data.flatten()}, rho (link lengths) = {to_numpy(rho).flatten()}')\n",
    "    if i % 5 == 0:\n",
    "        X = to_numpy(X)\n",
    "        X[0].flatten(), X[1].flatten()\n",
    "        visualize_manipulator(X, x_goal)\n",
    "\n",
    "# Reset omega and rho for repeatability\n",
    "omega, rho = old_omega.copy(), old_rho.copy()\n",
    "\n",
    "# Change matplotlib backend back to inline\n",
    "%matplotlib inline"
   ]
  },
  {
   "attachments": {},
   "cell_type": "markdown",
   "metadata": {},
   "source": [
    "# TASK 2.2 - Implement vectorized DKT (2 point)\n",
    "\n",
    "Now you will implement fully vectorized DKT with no `for` loop. Why? Because vectorized operations in numpy and pytorch are a lot faster than normal iterations. Don't you believe? Try it yourself! :D\n",
    "\n",
    "##### For this task implement `dkt_vectorized()` to get 1 point."
   ]
  },
  {
   "attachments": {},
   "cell_type": "markdown",
   "metadata": {},
   "source": [
    "## DKT Vectorized\n",
    "\n",
    "Our inputs are three vectors. First is $\\omega$ which represents relative angles of the joints. Second is $\\rho$ which represents lengths of the links. Third is $base$ which represents base angle and distance from origin ([0, 0]). Let's take an example when we have 3 joints.\n",
    "$$\n",
    "\\omega = \\begin{bmatrix} \\omega_1 \\\\ \\omega_2 \\end{bmatrix}, \\quad\n",
    "\\rho = \\begin{bmatrix} \\rho_1 \\\\ \\rho_2 \\end{bmatrix}, \\quad\n",
    "base = \\begin{bmatrix} \\omega_0 \\\\ \\rho_0 \\end{bmatrix}\n",
    "$$\n",
    "\n",
    "First we can calculate total angle of each joint by equation $\\varphi_k = \\omega_1 + \\omega_2 + \\ldots + \\omega_k$. In our 3 joint case we can write the equation as follows.\n",
    "$$\n",
    "\\begin{bmatrix} 1 & 0 & 0 \\\\ 1 & 1 & 0 \\\\ 1 & 1 & 1 \\end{bmatrix}\n",
    "\\cdot\n",
    "\\begin{bmatrix} \\omega_0 \\\\ \\omega_1 \\\\ \\omega_2 \\end{bmatrix}\n",
    "=\n",
    "\\begin{bmatrix} \\omega_0 \\\\ \\omega_0 + \\omega_1 \\\\ \\omega_0 + \\omega_1 + \\omega_2 \\end{bmatrix}\n",
    "=\n",
    "\\begin{bmatrix} \\varphi_0 \\\\ \\varphi_1 \\\\ \\varphi_2 \\end{bmatrix}\\\\\n",
    "$$\n",
    "\n",
    "Then we calculate the position of joints with respect to origin $[0 \\quad 0]$.\n",
    "\n",
    "$$\n",
    "\\begin{bmatrix}\n",
    "    \\cos{\\varphi_0} & \\cos{\\varphi_1} & \\cos{\\varphi_2} \\\\\n",
    "    \\sin{\\varphi_0} & \\sin{\\varphi_1} & \\sin{\\varphi_2}\n",
    "\\end{bmatrix}\n",
    "\\cdot\n",
    "\\begin{bmatrix}\n",
    "    \\rho_0 & 0 & 0 \\\\ 0 & \\rho_1 & 0 \\\\ 0 & 0 & \\rho_2\n",
    "\\end{bmatrix}\n",
    "= \\\\\n",
    "\\begin{bmatrix}\n",
    "    \\rho_0 \\cdot \\cos{\\varphi_0} & \\rho_1 \\cdot \\cos{\\varphi_1} & \\rho_2 \\cdot \\cos{\\varphi_2} \\\\\n",
    "    \\rho_0 \\cdot \\sin{\\varphi_0} & \\rho_1 \\cdot \\sin{\\varphi_1} & \\rho_2 \\cdot \\sin{\\varphi_2}\n",
    "\\end{bmatrix}\n",
    "=\n",
    "\\begin{bmatrix} x_0' & x_1' & x_3' \\\\ y_0' & y_1' & y_3' \\end{bmatrix}\n",
    "$$\n",
    "\n",
    "And finally we can calculate the real position of the joints.\n",
    "\n",
    "$$\n",
    "\\begin{bmatrix} x_0' & x_1' & x_3' \\\\ y_0' & y_1' & y_3' \\end{bmatrix}\n",
    "\\cdot\n",
    "\\begin{bmatrix} 1 & 1 & 1 \\\\ 0 & 1 & 1 \\\\ 0 & 0 & 1 \\end{bmatrix}\n",
    "=\n",
    "\\begin{bmatrix} x_0 & x_1 & x_3 \\\\ y_0 & y_1 & y_3 \\end{bmatrix}\n",
    "= X\n",
    "$$"
   ]
  },
  {
   "cell_type": "markdown",
   "metadata": {},
   "source": [
    "## Important notice\n",
    "All necessary functions are implemented in the engine library. You may implement more but the ones that are already there should be sufficient.\n",
    "\n",
    "It is also important to understand that all operation should be done on the Tensor object or objects. Therefore it is necessary to transform all intermediary numpy arrays to Tensor object before starting calculations with them."
   ]
  },
  {
   "cell_type": "code",
   "execution_count": null,
   "metadata": {},
   "outputs": [],
   "source": [
    "# Generate data for the task\n",
    "NUMBER_OF_JOINTS = 100\n",
    "omega, rho, base, x_goal = generate_task(NUMBER_OF_JOINTS)\n",
    "\n",
    "# Compute the positions\n",
    "X_1 = dkt(omega, rho, base)\n",
    "#----------------------------------------------------------\n",
    "# TODO: implement dkt function\n",
    "X_2 = dkt_vectorized(omega, rho, base)\n",
    "#----------------------------------------------------------\n",
    "\n",
    "# Compare the results\n",
    "if np.sum(np.abs(to_numpy(X_2).flatten() - to_numpy(X_1).flatten())) < 1e-1:\n",
    "    print(\"\\nNicely done! Your vectorized and non-vectorized function matches.\")\n",
    "\n",
    "    print(\"\\nTesting execution time of non-vectorized dkt...\")\n",
    "    %timeit dkt(omega, rho, base)\n",
    "\n",
    "    print(\"\\nTesting execution time of vectorized dkt...\")\n",
    "    %timeit dkt_vectorized(omega, rho, base)\n",
    "else:\n",
    "    print(\"Try harder!\")"
   ]
  },
  {
   "cell_type": "code",
   "execution_count": null,
   "outputs": [],
   "source": [],
   "metadata": {
    "collapsed": false
   }
  },
  {
   "cell_type": "code",
   "execution_count": null,
   "outputs": [],
   "source": [],
   "metadata": {
    "collapsed": false
   }
  }
 ],
 "metadata": {
  "kernelspec": {
   "display_name": "Python 3.8.10 64-bit",
   "language": "python",
   "name": "python3"
  },
  "language_info": {
   "codemirror_mode": {
    "name": "ipython",
    "version": 3
   },
   "file_extension": ".py",
   "mimetype": "text/x-python",
   "name": "python",
   "nbconvert_exporter": "python",
   "pygments_lexer": "ipython3",
   "version": "3.8.10"
  },
  "vscode": {
   "interpreter": {
    "hash": "916dbcbb3f70747c44a77c7bcd40155683ae19c65e1c03b4aa3499c5328201f1"
   }
  }
 },
 "nbformat": 4,
 "nbformat_minor": 1
}
