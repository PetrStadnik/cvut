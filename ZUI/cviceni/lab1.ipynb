{
 "cells": [
  {
   "cell_type": "markdown",
   "metadata": {
    "id": "_gD9C-ryF-tD"
   },
   "source": [
    "# Lab 1: Intro, BFS/DFS\n",
    "\n",
    "To run these notebooks at home, you can either use Colab or set up your own [jupyter notebooks](https://jupyter.org/install.html) on your computer."
   ]
  },
  {
   "cell_type": "markdown",
   "metadata": {},
   "source": [
    "You are strongly encouraged to look at the python notebook if you are not so familiar with the language."
   ]
  },
  {
   "cell_type": "markdown",
   "metadata": {
    "pycharm": {
     "name": "#%% md\n"
    }
   },
   "source": [
    "## The Grid-World Maze"
   ]
  },
  {
   "cell_type": "markdown",
   "metadata": {
    "id": "YuKW-iC8F8K8"
   },
   "source": [
    "We made a simple maze environment, where you can move vertically / horizontally and collect gold items. Your current position is denoted with a `@` symbol. Let's go briefly over the implementation to see what it does."
   ]
  },
  {
   "cell_type": "code",
   "execution_count": 1,
   "metadata": {
    "id": "4w4qCKZV459l"
   },
   "outputs": [],
   "source": [
    "from copy import deepcopy\n",
    "from typing import List, Dict, Tuple, Set\n",
    "\n",
    "Action = str  # Type alias\n",
    "\n",
    "\n",
    "class State:\n",
    "    def __init__(self, maze_rows: List[str]):\n",
    "        self._maze_rows = [list(row) for row in maze_rows]\n",
    "\n",
    "        # Make sure the maze has a rectangular shape, and has a proper boundary.\n",
    "        assert all(len(row) == self.num_cols() for row in self._maze_rows)\n",
    "        assert set(self._maze_rows[0]) == {\"#\"} and set(self._maze_rows[-1]) == {\"#\"}\n",
    "        assert all(row[0] == \"#\" and row[-1] == \"#\" for row in self._maze_rows)\n",
    "\n",
    "    def actions(self) -> List[Action]:\n",
    "        \"\"\"\n",
    "        :return: list of actions available at the current state.\n",
    "        \"\"\"\n",
    "        return [\n",
    "            \"u\",  # Up\n",
    "            \"d\",  # Down\n",
    "            \"l\",  # Left\n",
    "            \"r\",  # Right\n",
    "        ]\n",
    "\n",
    "    def apply(self, action: Action) -> None:\n",
    "        \"\"\"\n",
    "        Change current state by applying an action.\n",
    "        \"\"\"\n",
    "\n",
    "        assert action in self.actions()\n",
    "        i, j = self.current_position()\n",
    "\n",
    "        # Maze rows is a List, this makes a reference in Python, not a copy.\n",
    "        m = self._maze_rows\n",
    "\n",
    "        # These bound checks work because we made sure that the whole maze is\n",
    "        # delimited with char #   -- otherwise we would have to make much more\n",
    "        # complicated if statements! This is a common implementation trick, used\n",
    "        # for example in Chess or Go engines.\n",
    "        if action == \"u\" and m[i - 1][j] != \"#\":\n",
    "            m[i][j], m[i - 1][j] = \" \", \"@\"\n",
    "        elif action == \"d\" and m[i + 1][j] != \"#\":\n",
    "            m[i][j], m[i + 1][j] = \" \", \"@\"\n",
    "        elif action == \"l\" and m[i][j - 1] != \"#\":\n",
    "            m[i][j], m[i][j - 1] = \" \", \"@\"\n",
    "        elif action == \"r\" and m[i][j + 1] != \"#\":\n",
    "            m[i][j], m[i][j + 1] = \" \", \"@\"\n",
    "\n",
    "    def copy(self) -> \"State\":\n",
    "        \"\"\"\n",
    "        Make a copy of the current state.\n",
    "        \"\"\"\n",
    "        return State(deepcopy(self._maze_rows))\n",
    "\n",
    "    # -- Maze specific methods ---------------------------------------------------\n",
    "\n",
    "    def num_rows(self):\n",
    "        return len(self._maze_rows)\n",
    "\n",
    "    def num_cols(self):\n",
    "        return len(self._maze_rows[0])\n",
    "\n",
    "    def current_position(self) -> Tuple[int, int]:\n",
    "        # Find current position: it is denoted using an @ sign.\n",
    "        for i in range(self.num_rows()):\n",
    "            for j in range(self.num_cols()):\n",
    "                if self._maze_rows[i][j] == \"@\":\n",
    "                    return i, j\n",
    "        raise RuntimeError(\n",
    "            \"Invalid maze: current position not found in: \" + \"\\n\".join(self._maze_rows)\n",
    "        )\n",
    "\n",
    "    def captures_gold(self, action: Action):\n",
    "        i, j = self.current_position()\n",
    "        m = self._maze_rows\n",
    "        return (\n",
    "            (action == \"u\" and m[i - 1][j] == \"G\")\n",
    "            or (action == \"d\" and m[i + 1][j] == \"G\")\n",
    "            or (action == \"l\" and m[i][j - 1] == \"G\")\n",
    "            or (action == \"r\" and m[i][j + 1] == \"G\")\n",
    "        )\n",
    "\n",
    "    def has_any_gold(self):\n",
    "        for i in range(self.num_rows()):\n",
    "            for j in range(self.num_cols()):\n",
    "                if self._maze_rows[i][j] == \"G\":\n",
    "                    return True\n",
    "        return False\n",
    "\n",
    "    # -- Helper methods ----------------------------------------------------------\n",
    "\n",
    "    def __str__(self):\n",
    "        return \"\\n\".join([\"\".join(row) for row in self._maze_rows])\n",
    "\n",
    "    def __eq__(self, other):\n",
    "        return self._maze_rows == other._maze_rows\n",
    "\n",
    "    def __hash__(self):\n",
    "        return hash(str(self))\n",
    "\n",
    "    def __repr__(self):\n",
    "        return str(self)"
   ]
  },
  {
   "cell_type": "markdown",
   "metadata": {
    "id": "K8FvUORIGzUk"
   },
   "source": [
    "Let's make the simplest valid maze example."
   ]
  },
  {
   "cell_type": "code",
   "execution_count": 2,
   "metadata": {
    "colab": {
     "base_uri": "https://localhost:8080/"
    },
    "id": "5UQResyrHLzn",
    "outputId": "671763c8-d756-4dd7-c4c8-021c3ee10879"
   },
   "outputs": [
    {
     "data": {
      "text/plain": [
       "###\n",
       "#@#\n",
       "###"
      ]
     },
     "execution_count": 2,
     "metadata": {},
     "output_type": "execute_result"
    }
   ],
   "source": [
    "maze0 = State([\"###\",\n",
    "               \"#@#\",\n",
    "               \"###\"])\n",
    "maze0"
   ]
  },
  {
   "cell_type": "markdown",
   "metadata": {
    "id": "5oUYbyKvHuYp"
   },
   "source": [
    "Let's try to move.\n"
   ]
  },
  {
   "cell_type": "code",
   "execution_count": 3,
   "metadata": {
    "colab": {
     "base_uri": "https://localhost:8080/"
    },
    "id": "uKp_iKhEHvku",
    "outputId": "3fee32ec-9702-4ac6-f6d4-d43d8060b3c1"
   },
   "outputs": [
    {
     "data": {
      "text/plain": [
       "###\n",
       "#@#\n",
       "###"
      ]
     },
     "execution_count": 3,
     "metadata": {},
     "output_type": "execute_result"
    }
   ],
   "source": [
    "maze0.apply(\"d\")\n",
    "maze0"
   ]
  },
  {
   "cell_type": "markdown",
   "metadata": {
    "id": "dhd-dY0qH6S5"
   },
   "source": [
    "Nothing happens. It'a a boring maze after all :)\n",
    "\n",
    "Let's make a number of more complicated mazes.\n"
   ]
  },
  {
   "cell_type": "code",
   "execution_count": 4,
   "metadata": {
    "id": "GV8EffdiH5rF"
   },
   "outputs": [],
   "source": [
    "maze1 = State([\"####\",\n",
    "               \"#@G#\",\n",
    "               \"####\"])\n",
    "maze2 = State([\"#####\",\n",
    "               \"#  G#\",\n",
    "               \"# ###\",\n",
    "               \"#@  #\",\n",
    "               \"#####\"])"
   ]
  },
  {
   "cell_type": "markdown",
   "metadata": {
    "id": "jGzUqNM5IHTM"
   },
   "source": [
    "### **Task 0**:\n",
    "\n",
    "Apply appropriate actions to make your character to fetch the gold  for both mazes.\n",
    "\n",
    "!! Now beware that the `.apply()` function **changes** the maze, so if we want to keep the original, we need to copy it. !!\n"
   ]
  },
  {
   "cell_type": "code",
   "execution_count": 5,
   "metadata": {
    "id": "nav1Ph6lIGJP"
   },
   "outputs": [],
   "source": [
    "# Write appropriate sequence of apply()\n",
    "maze = maze1.copy()\n"
   ]
  },
  {
   "cell_type": "code",
   "execution_count": 6,
   "metadata": {
    "pycharm": {
     "name": "#%%\n"
    }
   },
   "outputs": [],
   "source": [
    "maze = maze2.copy()\n"
   ]
  },
  {
   "cell_type": "markdown",
   "metadata": {
    "id": "Yul6jcflJGkf"
   },
   "source": [
    "### **Task 1**:\n",
    "\n",
    "Write BFS traversal to fetch the gold. Return a list of actions which need to be followed from the initial maze.\n",
    "\n",
    "Hint: use `captures_gold(action)` to know when to terminate search.\n",
    "\n"
   ]
  },
  {
   "cell_type": "code",
   "execution_count": 7,
   "metadata": {
    "id": "KyPUAw3rJowM"
   },
   "outputs": [],
   "source": [
    "\n",
    "\n",
    "def find_some_gold_bfs(init_maze: State) -> List[Action]:\n",
    "    # TODO: Implement this method.\n",
    "    raise NotImplementedError\n"
   ]
  },
  {
   "cell_type": "markdown",
   "metadata": {},
   "source": [
    "It is customary to write automatic tests to verify the implementation works correctly. The simplest is to use just `assert`s as checks.\n",
    "\n",
    "You are **strongly advised** to generate your own test cases when you solve home tasks and automatically check that your algorithms solve them correctly. **Importantly** do not use BRUTE as a test server! If you have trouble getting more points for your submission, think carefully if you handle corner cases correctly, and create your own tests for them."
   ]
  },
  {
   "cell_type": "code",
   "execution_count": 8,
   "metadata": {
    "pycharm": {
     "name": "#%%\n"
    }
   },
   "outputs": [],
   "source": [
    "def test_maze_bfs():\n",
    "    # TODO: Add appropriate values to compare with.\n",
    "    assert find_some_gold_bfs(maze1) == []\n",
    "    assert find_some_gold_bfs(maze2) == []\n"
   ]
  },
  {
   "cell_type": "code",
   "execution_count": 9,
   "metadata": {},
   "outputs": [
    {
     "ename": "NotImplementedError",
     "evalue": "",
     "output_type": "error",
     "traceback": [
      "\u001b[0;31m---------------------------------------------------------------------------\u001b[0m",
      "\u001b[0;31mNotImplementedError\u001b[0m                       Traceback (most recent call last)",
      "\u001b[0;32m/tmp/ipykernel_9905/955268739.py\u001b[0m in \u001b[0;36m<module>\u001b[0;34m\u001b[0m\n\u001b[0;32m----> 1\u001b[0;31m \u001b[0mtest_maze_bfs\u001b[0m\u001b[0;34m(\u001b[0m\u001b[0;34m)\u001b[0m\u001b[0;34m\u001b[0m\u001b[0;34m\u001b[0m\u001b[0m\n\u001b[0m",
      "\u001b[0;32m/tmp/ipykernel_9905/4225829036.py\u001b[0m in \u001b[0;36mtest_maze_bfs\u001b[0;34m()\u001b[0m\n\u001b[1;32m      1\u001b[0m \u001b[0;32mdef\u001b[0m \u001b[0mtest_maze_bfs\u001b[0m\u001b[0;34m(\u001b[0m\u001b[0;34m)\u001b[0m\u001b[0;34m:\u001b[0m\u001b[0;34m\u001b[0m\u001b[0;34m\u001b[0m\u001b[0m\n\u001b[1;32m      2\u001b[0m     \u001b[0;31m# TODO: Add appropriate values to compare with.\u001b[0m\u001b[0;34m\u001b[0m\u001b[0;34m\u001b[0m\u001b[0;34m\u001b[0m\u001b[0m\n\u001b[0;32m----> 3\u001b[0;31m     \u001b[0;32massert\u001b[0m \u001b[0mfind_some_gold_bfs\u001b[0m\u001b[0;34m(\u001b[0m\u001b[0mmaze1\u001b[0m\u001b[0;34m)\u001b[0m \u001b[0;34m==\u001b[0m \u001b[0;34m[\u001b[0m\u001b[0;34m]\u001b[0m\u001b[0;34m\u001b[0m\u001b[0;34m\u001b[0m\u001b[0m\n\u001b[0m\u001b[1;32m      4\u001b[0m     \u001b[0;32massert\u001b[0m \u001b[0mfind_some_gold_bfs\u001b[0m\u001b[0;34m(\u001b[0m\u001b[0mmaze2\u001b[0m\u001b[0;34m)\u001b[0m \u001b[0;34m==\u001b[0m \u001b[0;34m[\u001b[0m\u001b[0;34m]\u001b[0m\u001b[0;34m\u001b[0m\u001b[0;34m\u001b[0m\u001b[0m\n",
      "\u001b[0;32m/tmp/ipykernel_9905/2439174560.py\u001b[0m in \u001b[0;36mfind_some_gold_bfs\u001b[0;34m(init_maze)\u001b[0m\n\u001b[1;32m      1\u001b[0m \u001b[0;32mdef\u001b[0m \u001b[0mfind_some_gold_bfs\u001b[0m\u001b[0;34m(\u001b[0m\u001b[0minit_maze\u001b[0m\u001b[0;34m:\u001b[0m \u001b[0mState\u001b[0m\u001b[0;34m)\u001b[0m \u001b[0;34m->\u001b[0m \u001b[0mList\u001b[0m\u001b[0;34m[\u001b[0m\u001b[0mAction\u001b[0m\u001b[0;34m]\u001b[0m\u001b[0;34m:\u001b[0m\u001b[0;34m\u001b[0m\u001b[0;34m\u001b[0m\u001b[0m\n\u001b[1;32m      2\u001b[0m     \u001b[0;31m# TODO: Implement this method.\u001b[0m\u001b[0;34m\u001b[0m\u001b[0;34m\u001b[0m\u001b[0;34m\u001b[0m\u001b[0m\n\u001b[0;32m----> 3\u001b[0;31m     \u001b[0;32mraise\u001b[0m \u001b[0mNotImplementedError\u001b[0m\u001b[0;34m\u001b[0m\u001b[0;34m\u001b[0m\u001b[0m\n\u001b[0m",
      "\u001b[0;31mNotImplementedError\u001b[0m: "
     ]
    }
   ],
   "source": [
    "test_maze_bfs()"
   ]
  },
  {
   "cell_type": "markdown",
   "metadata": {
    "id": "r7ZVl_84Js8w"
   },
   "source": [
    "### Task 2\n",
    "\n",
    "Write DFS traversal to fetch the gold. Return a list of actions which need to be followed from the initial maze."
   ]
  },
  {
   "cell_type": "code",
   "execution_count": 10,
   "metadata": {
    "id": "yKhXP82lJtPy"
   },
   "outputs": [],
   "source": [
    "def find_some_gold_dfs(init_maze: State) -> List[Action]:\n",
    "    # TODO: Implement this method.\n",
    "    raise NotImplementedError\n"
   ]
  },
  {
   "cell_type": "markdown",
   "metadata": {},
   "source": [
    "Add a test!"
   ]
  },
  {
   "cell_type": "code",
   "execution_count": null,
   "metadata": {},
   "outputs": [],
   "source": [
    "def test_maze_dfs():\n",
    "    # TODO: Add appropriate values to compare with.\n",
    "    assert find_some_gold_dfs(maze1) == []\n",
    "    assert find_some_gold_dfs(maze2) == []\n"
   ]
  },
  {
   "cell_type": "code",
   "execution_count": null,
   "metadata": {},
   "outputs": [],
   "source": [
    "test_maze_dfs()"
   ]
  },
  {
   "cell_type": "markdown",
   "metadata": {
    "id": "UJbRuFyqJ3bB"
   },
   "source": [
    "### Task 3\n",
    "\n",
    "Let's make a more complicated maze:"
   ]
  },
  {
   "cell_type": "code",
   "execution_count": null,
   "metadata": {
    "id": "uboBKwfmJ9SV"
   },
   "outputs": [],
   "source": [
    "maze3 = State([\"########\",\n",
    "               \"#  G#G #\",\n",
    "               \"# # ## #\",\n",
    "               \"#@  G  #\",\n",
    "               \"########\"])"
   ]
  },
  {
   "cell_type": "markdown",
   "metadata": {
    "id": "YQ6CIxJrKHQf"
   },
   "source": [
    "Use your previous implementations to collect all the golds.\n",
    "Hint: use `maze.has_any_gold()` to terminate the collection loop."
   ]
  },
  {
   "cell_type": "code",
   "execution_count": null,
   "metadata": {
    "id": "mjX_JNzNKGnp"
   },
   "outputs": [],
   "source": [
    "def collect_all_golds(init_maze: State) -> List[Action]:\n",
    "    # TODO: Implement this method.\n",
    "    raise NotImplementedError\n"
   ]
  },
  {
   "cell_type": "markdown",
   "metadata": {},
   "source": [
    "Add a test!"
   ]
  },
  {
   "cell_type": "code",
   "execution_count": null,
   "metadata": {},
   "outputs": [],
   "source": [
    "def test_maze_collect_all_gold():\n",
    "    raise NotImplementedError\n"
   ]
  },
  {
   "cell_type": "code",
   "execution_count": null,
   "metadata": {},
   "outputs": [],
   "source": [
    "test_maze_collect_all_gold()"
   ]
  },
  {
   "cell_type": "markdown",
   "metadata": {
    "id": "2-txJbpXKWn4"
   },
   "source": [
    "# Extra: vizualize the state space\n"
   ]
  },
  {
   "cell_type": "markdown",
   "metadata": {
    "id": "gZ8_ljihLWZ-"
   },
   "source": [
    "Graphviz is a very nice library for visualizing graphs. Let's install and import:"
   ]
  },
  {
   "cell_type": "code",
   "execution_count": null,
   "metadata": {
    "pycharm": {
     "is_executing": true,
     "name": "#%%\n"
    }
   },
   "outputs": [],
   "source": [
    "# Code following bang (the ! character) runs in shell.\n",
    "!pip install graphviz\n",
    "\n",
    "# You may need to run also system package installation in terminal.\n",
    "#!sudo apt install graphviz\n",
    "\n",
    "import graphviz"
   ]
  },
  {
   "cell_type": "markdown",
   "metadata": {},
   "source": [
    "It has a simple and intuitive syntax. Like this:"
   ]
  },
  {
   "cell_type": "code",
   "execution_count": null,
   "metadata": {
    "colab": {
     "base_uri": "https://localhost:8080/",
     "height": 176
    },
    "id": "slnvLIOXL9jb",
    "outputId": "fbb1cc1a-aba1-42fb-ed1e-d80d71bbec6e",
    "pycharm": {
     "is_executing": true
    }
   },
   "outputs": [],
   "source": [
    "graph = graphviz.Digraph()\n",
    "graph.edge(\"A\", \"C\")\n",
    "graph.edge(\"B\", \"C\")\n",
    "graph.node(\"D\")\n",
    "graph"
   ]
  },
  {
   "cell_type": "markdown",
   "metadata": {
    "id": "mGvqUAIyMO_c"
   },
   "source": [
    "The python code generated this domain-specific code for graphviz: "
   ]
  },
  {
   "cell_type": "code",
   "execution_count": null,
   "metadata": {
    "colab": {
     "base_uri": "https://localhost:8080/"
    },
    "id": "WFbbsx7pMacy",
    "outputId": "d86b97be-5d15-4b96-bd79-ccd9f81b845f"
   },
   "outputs": [],
   "source": [
    "print(graph.source)"
   ]
  },
  {
   "cell_type": "markdown",
   "metadata": {
    "id": "aUPrx-j9NDwW"
   },
   "source": [
    "You can create also multi-graphs and pass style attributes:"
   ]
  },
  {
   "cell_type": "code",
   "execution_count": null,
   "metadata": {
    "colab": {
     "base_uri": "https://localhost:8080/",
     "height": 196
    },
    "id": "00u5up_5NGWD",
    "outputId": "7156e9e6-2828-440a-b563-0358a8fc0ada"
   },
   "outputs": [],
   "source": [
    "edge_attrs = dict(color=\"blue\", penwidth=\"5\")\n",
    "graph = graphviz.Digraph(strict=False)\n",
    "graph.edge(\"A\", \"C\", label=\"x\")\n",
    "graph.edge(\"A\", \"C\", label=\"y\")\n",
    "graph.edge(\"B\", \"C\", **edge_attrs)\n",
    "graph.node(\"D\")\n",
    "graph"
   ]
  },
  {
   "cell_type": "markdown",
   "metadata": {
    "id": "A_6NFH34Mk7p"
   },
   "source": [
    "Let's make a function that saves all the maze transitions. Then we can render them using graphviz"
   ]
  },
  {
   "cell_type": "code",
   "execution_count": null,
   "metadata": {
    "id": "TOgwkECCM3dW"
   },
   "outputs": [],
   "source": [
    "def maze_transitions(init_state: State) -> List[Tuple[State, Action, State]]:\n",
    "    transitions = []  # List of oriented edges: (from_state, action, to_state)\n",
    "    opened = []  # List of open states to go through.\n",
    "    closed = []  # List of states we visited.\n",
    "\n",
    "    opened.append(init_state)\n",
    "    while len(opened) > 0:\n",
    "        state = opened.pop()\n",
    "        closed.append(state)\n",
    "        for action in state.actions():\n",
    "            next_state = state.copy()\n",
    "            next_state.apply(action)\n",
    "            if not next_state in closed:\n",
    "                opened.append(next_state)\n",
    "            transitions.append((state, action, next_state))\n",
    "    return transitions\n",
    "\n",
    "\n",
    "def make_graph(transitions: List[Tuple[State, Action, State]], \n",
    "               **attrs: dict) -> graphviz.Digraph:\n",
    "    graph = graphviz.Digraph(\n",
    "        strict=False,  # Allow multi-edges\n",
    "        engine=\"fdp\",  # Layout engine\n",
    "    )\n",
    "    graph.node_attr[\"fontname\"] = \"monospace\"\n",
    "    graph.node_attr.update(attrs)\n",
    "\n",
    "    for from_state, action, to_state in transitions:\n",
    "        graph.edge(str(from_state), str(to_state), key=action, label=action, **attrs)\n",
    "    return graph"
   ]
  },
  {
   "cell_type": "markdown",
   "metadata": {
    "id": "o3XH-WE2QMcq"
   },
   "source": [
    "You can compose the functions together:"
   ]
  },
  {
   "cell_type": "code",
   "execution_count": null,
   "metadata": {
    "id": "m-XZa8xAQRXd"
   },
   "outputs": [],
   "source": [
    "transitions = maze_transitions(maze1)\n",
    "graph = make_graph(transitions)\n",
    "graph"
   ]
  },
  {
   "cell_type": "markdown",
   "metadata": {
    "id": "cuLHsejuNggJ"
   },
   "source": [
    "Let's create a generic function which adds additional edges to the graph to highlight a path from an initial maze."
   ]
  },
  {
   "cell_type": "code",
   "execution_count": null,
   "metadata": {
    "id": "z_vTKK12Numj"
   },
   "outputs": [],
   "source": [
    "def highlight_path(graph: graphviz.Digraph, \n",
    "                   init_state: State, \n",
    "                   path: List[Action], \n",
    "                   **edge_attrs: dict):\n",
    "    from_state = init_state\n",
    "    for i, action in enumerate(path):\n",
    "        to_state = from_state.copy()\n",
    "        to_state.apply(action)\n",
    "        graph.edge(\n",
    "            str(from_state), str(to_state), label=f\"#{i}: {action}\", **edge_attrs\n",
    "        )\n",
    "        from_state = to_state"
   ]
  },
  {
   "cell_type": "markdown",
   "metadata": {
    "id": "CEsvreNfORBN"
   },
   "source": [
    "We can render the maze transitions and the solutions found with your algorithm."
   ]
  },
  {
   "cell_type": "code",
   "execution_count": null,
   "metadata": {
    "id": "zHSS1F7SOXI_"
   },
   "outputs": [],
   "source": [
    "example_maze = maze1  # Try maze2, maze3\n",
    "\n",
    "transitions = maze_transitions(example_maze)\n",
    "full_path = collect_all_golds(example_maze)\n",
    "graph = make_graph(transitions, fontsize=\"8\")\n",
    "highlight_path(graph, example_maze, full_path, fontcolor=\"blue\", color=\"blue\", penwidth=\"5\")\n",
    "graph"
   ]
  }
 ],
 "metadata": {
  "colab": {
   "collapsed_sections": [],
   "name": "ZUI Lab 1",
   "provenance": []
  },
  "kernelspec": {
   "display_name": "Python 3 (ipykernel)",
   "language": "python",
   "name": "python3"
  },
  "language_info": {
   "codemirror_mode": {
    "name": "ipython",
    "version": 3
   },
   "file_extension": ".py",
   "mimetype": "text/x-python",
   "name": "python",
   "nbconvert_exporter": "python",
   "pygments_lexer": "ipython3",
   "version": "3.7.6"
  }
 },
 "nbformat": 4,
 "nbformat_minor": 4
}
