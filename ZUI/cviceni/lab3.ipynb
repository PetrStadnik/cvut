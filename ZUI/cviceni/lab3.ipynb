{
 "cells": [
  {
   "cell_type": "markdown",
   "metadata": {
    "id": "HV_h0NBNrh6G"
   },
   "source": [
    "# Lab 3: Partially Observable Markov Decision Process (POMDP)\n",
    "\n",
    "In the previous lab, we studied the MDP model:\n",
    "\n",
    "- $\\mathcal S$ - state space\n",
    "- $\\mathcal A$ - possible actions\n",
    "- $t$ - transition function\n",
    "- $r$ - reward function\n",
    "\n",
    "POMDP extends MDP with:\n",
    "\n",
    "- set of possible observations,\n",
    "- observation function or distribution O(o|s',a),\n",
    "- and initial belief distribution over the states.\n",
    "\n",
    "The goal is to maximize reward in a partially observable environment.\n",
    "\n",
    "- Agent cannot fully observe current state but instead has belief in form of probability distribution over the entire state space.\n",
    "- For each action and new state agent receives an observation.\n",
    "- Agent updates its belief based on the previous belief, action and observation of the new state.\n",
    "\n",
    "\n",
    "Example:\n",
    "\n",
    "- Maze: Agent only see few tiles around him. (Maze is foggy)\n",
    "- Can you think of other examples?\n",
    "\n"
   ]
  },
  {
   "cell_type": "markdown",
   "metadata": {
    "id": "qcI3VTrjrh6I"
   },
   "source": [
    "## Task 1\n",
    "\n",
    "Let's use the maze again but differently:\n",
    "\n",
    "- Direction of agent is now part of the state. Agent in the maze is represented by characters `<` `>` `^` `v`  based on its direction, instead of `@`\n",
    "- Agent actions (turn left `l`, turn right `r`) can change its direction.\n",
    "- Only movement forward `m` is allowed.\n",
    "\n",
    "Implement function `apply` in this new setup."
   ]
  },
  {
   "cell_type": "code",
   "execution_count": null,
   "metadata": {
    "id": "sWaaPOPurh6I"
   },
   "outputs": [],
   "source": [
    "from copy import deepcopy\n",
    "from typing import List, Tuple, Dict, Set\n",
    "\n",
    "\n",
    "Action = str  # Type alias\n",
    "\n",
    "\n",
    "class State:\n",
    "\n",
    "    def __init__(self, maze_rows: List[str]):\n",
    "        self._maze_rows = [list(row) for row in maze_rows]\n",
    "\n",
    "        # Make sure the maze has a rectangular shape, and has a proper boundary.\n",
    "        assert all(len(row) == self.num_cols() for row in self._maze_rows)\n",
    "        assert set(self._maze_rows[0]) == {\"#\"} and set(self._maze_rows[-1]) == {\"#\"}\n",
    "        assert all(row[0] == \"#\" and row[-1] == \"#\" for row in self._maze_rows)\n",
    "\n",
    "    def actions(self) -> List[Action]:\n",
    "        \"\"\"\n",
    "        :return: list of actions available at the current state.\n",
    "        \"\"\"\n",
    "        return [\n",
    "            \"m\",  # Move forward.\n",
    "            \"l\",  # Turn left.\n",
    "            \"r\",  # Turn right.\n",
    "        ]\n",
    "\n",
    "    def apply(self, action: Action) -> None:\n",
    "        \"\"\"\n",
    "        Apply action in the current state.\n",
    "        \"\"\"\n",
    "        i, j, direction = self.current_position()\n",
    "        raise NotImplementedError()\n",
    "\n",
    "    def copy(self) -> \"State\":\n",
    "        return State(deepcopy(self._maze_rows))\n",
    "\n",
    "    # -- Maze specific methods ---------------------------------------------------\n",
    "\n",
    "    def num_rows(self):\n",
    "        return len(self._maze_rows)\n",
    "\n",
    "    def num_cols(self):\n",
    "        return len(self._maze_rows[0])\n",
    "\n",
    "    def current_position(self) -> Tuple[int, int, str]:\n",
    "        # Return agent coordinates and orientation.\n",
    "        for i in range(self.num_rows()):\n",
    "            for j in range(self.num_cols()):\n",
    "                if self._maze_rows[i][j] in [\"^\", \"<\", \"v\", \">\"]:\n",
    "                    return i, j, self._maze_rows[i][j]\n",
    "        raise RuntimeError(\n",
    "            \"Invalid maze: current position not found in: \" + \"\\n\".join(self._maze_rows)\n",
    "        )\n",
    "    \n",
    "    def num_golds(self) -> int:\n",
    "        golds = 0\n",
    "        for i in range(self.num_rows()):\n",
    "            for j in range(self.num_cols()):\n",
    "                if self._maze_rows[i][j] == \"G\":\n",
    "                    golds += 1\n",
    "        return golds\n",
    "    \n",
    "    def has_any_gold(self) -> bool:\n",
    "        return self.num_golds() > 0\n",
    "\n",
    "    # -- Helper methods ----------------------------------------------------------\n",
    "\n",
    "    def __str__(self):\n",
    "        return \"\\n\".join([\"\".join(row) for row in self._maze_rows])\n",
    "\n",
    "    def __eq__(self, other):\n",
    "        return self._maze_rows == other._maze_rows\n",
    "\n",
    "    def __hash__(self):\n",
    "        return hash(str(self))\n",
    "\n",
    "    def __repr__(self):\n",
    "        return str(self)\n"
   ]
  },
  {
   "cell_type": "markdown",
   "metadata": {
    "id": "5ytF9kSX0uPR"
   },
   "source": [
    "We provide a number of test cases your implementation must pass:"
   ]
  },
  {
   "cell_type": "code",
   "execution_count": null,
   "metadata": {
    "id": "fL7eM2Bcrh6J"
   },
   "outputs": [],
   "source": [
    "def test_apply_turn():\n",
    "    test_maze = [\n",
    "        \"#####\",\n",
    "        \"# ^ #\",\n",
    "        \"#####\"]\n",
    "\n",
    "    maze = State(test_maze)\n",
    "    maze.apply(\"l\")\n",
    "    result_maze = [\n",
    "        \"#####\",\n",
    "        \"# < #\",\n",
    "        \"#####\" ]\n",
    "    assert maze == State(result_maze)\n",
    "\n",
    "    maze = State(test_maze)\n",
    "    maze.apply(\"r\")\n",
    "    result_maze = [\n",
    "        \"#####\",\n",
    "        \"# > #\",\n",
    "        \"#####\" ]\n",
    "    assert maze == State(result_maze)\n",
    "\n",
    "    maze = State(test_maze)\n",
    "    maze.apply(\"l\")\n",
    "    maze.apply(\"l\")\n",
    "    result_maze = [\n",
    "        \"#####\",\n",
    "        \"# v #\",\n",
    "        \"#####\" ]\n",
    "    assert maze == State(result_maze)\n",
    "\n",
    "    maze = State(test_maze)\n",
    "    maze.apply(\"l\")\n",
    "    maze.apply(\"r\")\n",
    "    result_maze = [\n",
    "        \"#####\",\n",
    "        \"# ^ #\",\n",
    "        \"#####\" ]\n",
    "    assert maze == State(result_maze)\n",
    "    \n",
    "def test_apply_move():\n",
    "    test_maze = [\n",
    "        \"#####\",\n",
    "        \"# ^ #\",\n",
    "        \"#####\"]\n",
    "\n",
    "    maze = State(test_maze)\n",
    "    maze.apply(\"m\")\n",
    "    result_maze = [\n",
    "        \"#####\",\n",
    "        \"# ^ #\",\n",
    "        \"#####\" ]\n",
    "    assert maze == State(result_maze)\n",
    "\n",
    "    test_maze = [\n",
    "        \"#####\",\n",
    "        \"# > #\",\n",
    "        \"#####\"]\n",
    "    maze = State(test_maze)\n",
    "    maze.apply(\"m\")\n",
    "    result_maze = [\n",
    "        \"#####\",\n",
    "        \"#  >#\",\n",
    "        \"#####\" ]\n",
    "    assert maze == State(result_maze)\n",
    "    \n",
    "    \n",
    "def test_apply_move_gold():\n",
    "    test_maze = [\n",
    "        \"#####\",\n",
    "        \"# >G#\",\n",
    "        \"#####\"]\n",
    "    maze = State(test_maze)\n",
    "    assert maze.num_golds() == 1\n",
    "    maze.apply(\"m\")\n",
    "    result_maze = [\n",
    "        \"#####\",\n",
    "        \"#  >#\",\n",
    "        \"#####\" ]\n",
    "    assert maze == State(result_maze)\n",
    "    assert maze.num_golds() == 0\n",
    "\n",
    "# Pass tests\n",
    "test_apply_turn()\n",
    "test_apply_move()\n",
    "test_apply_move_gold()"
   ]
  },
  {
   "cell_type": "markdown",
   "metadata": {
    "id": "ZsxjMJG-rh6M"
   },
   "source": [
    "# Models\n",
    "\n",
    "\n",
    "In Lab2, we had a transition model in the form of a `SxSxA` matrix and a reward model in the form of a `SxA` matrix. Keeping all transitions and rewards in the memory can cause memory issues for large problems. In the case of POMDPs, we need to have yet another matrix for all the observations (`SxA` matrix in general case).\n",
    "\n",
    "A different approach we will now use is to procedurally generate transitions, rewards and observation only when needed, based on known rules. In this way, we don't need to keep the whole matrix in memory all the time."
   ]
  },
  {
   "cell_type": "markdown",
   "metadata": {
    "id": "POdo5vocrh6N"
   },
   "source": [
    "### Solver library\n",
    "- To solve instances of POMDP, we will use `pomdp_py` library.\n",
    "\n",
    "- The library uses `pomdp_py.State`, `pomdp_py.Observation`, `pomdp_py.Action` classes to represent the corresponding concepts. These create an interface we should work with in order to use the library -- therefore we will wrap our implementation inside of these classes.\n",
    "\n",
    "- Additionally, we need to define `TransitionModel`, `RewardModel` and `ObservationModel` classes to model corresponding distributions. \n",
    "\n",
    "- We need function `get_all_states` to create uniform prior belief over all states."
   ]
  },
  {
   "cell_type": "code",
   "execution_count": null,
   "metadata": {
    "id": "n6GsCapXrh6M"
   },
   "outputs": [],
   "source": [
    "# Install library with pomdp solver (takes a while) ...\n",
    "!pip install cython\n",
    "!pip install git+https://github.com/h2r/pomdp-py.git"
   ]
  },
  {
   "cell_type": "markdown",
   "metadata": {
    "id": "JeEq4Dq70uPV"
   },
   "source": [
    "We need to implement interface for the pomdp library:"
   ]
  },
  {
   "cell_type": "code",
   "execution_count": null,
   "metadata": {
    "id": "Bl3c_BNL0uPW"
   },
   "outputs": [],
   "source": [
    "import pomdp_py"
   ]
  },
  {
   "cell_type": "code",
   "execution_count": null,
   "metadata": {
    "id": "SL33Silt0uPW"
   },
   "outputs": [],
   "source": [
    "# This is boilerplate code that wraps our State and Action for the use with the external library.\n",
    "\n",
    "class PomdpAction(pomdp_py.Action):\n",
    "    def __init__(self, value: Action): self.value = value\n",
    "    def __hash__(self):         return hash(self.value)\n",
    "    def __eq__(self, other):    return self.value == other.value\n",
    "    def __str__(self):          return self.value\n",
    "    def __repr__(self):         return str(self)\n",
    "\n",
    "class PomdpState(pomdp_py.State):\n",
    "    def __init__(self, maze_rows: List[str]):\n",
    "        super().__init__()\n",
    "        self.state = State(maze_rows)\n",
    "        self._maze_rows = self.state._maze_rows\n",
    "    def apply(self, action: PomdpAction): self.state.apply(action.value)\n",
    "    def actions(self):              return [PomdpAction(\"m\"), PomdpAction(\"l\"), PomdpAction(\"r\")]\n",
    "    def current_position(self) -> Tuple[int, int, str]: return self.state.current_position()\n",
    "    def num_golds(self) -> int:     return self.state.num_golds()\n",
    "    def has_any_gold(self) -> bool: return self.state.has_any_gold()\n",
    "    def copy(self) -> \"PomdpState\": return PomdpState(deepcopy(self.state._maze_rows))\n",
    "    def __hash__(self):             return hash(self.state)\n",
    "    def __eq__(self, other):        return self.state == other.state\n",
    "    def __str__(self):              return str(self.state)\n",
    "    def __repr__(self):             return repr(self.state)\n",
    "\n",
    "\n",
    "class PomdpObservation(pomdp_py.Observation):\n",
    "    def __init__(self, value):  self.value = value\n",
    "    def __hash__(self):         return hash(self.value)\n",
    "    def __eq__(self, other):    return self.value == other.value\n",
    "    def __str__(self):          return self.value\n",
    "    def __repr__(self):         return str(self)\n",
    "    \n",
    "class PolicyModel(pomdp_py.RandomRollout):\n",
    "    def sample(self, state, **kwargs) -> Action:\n",
    "        return self.get_all_actions().random()\n",
    "    def get_all_actions(self, **kwargs) -> List[Action]:\n",
    "        return [PomdpAction(\"m\"), PomdpAction(\"l\"), PomdpAction(\"r\")]"
   ]
  },
  {
   "cell_type": "markdown",
   "metadata": {
    "id": "fgif7Qqw0uPW"
   },
   "source": [
    "**From now on, we will use these wrapped classes**: `PomdpAction`, `PomdpState`, `PomdpObservation`, `PolicyModel`"
   ]
  },
  {
   "cell_type": "code",
   "execution_count": null,
   "metadata": {
    "id": "90XvRKZC0uPX"
   },
   "outputs": [],
   "source": [
    "# Slightly modified function get_all_transitions() from Lab 2.\n",
    "\n",
    "def get_all_states(init_state: PomdpState) -> List[PomdpState]:\n",
    "    states = [init_state]\n",
    "    opened = [0]\n",
    "\n",
    "    while len(opened) > 0:\n",
    "        from_idx = opened.pop()\n",
    "        state = states[from_idx]\n",
    "\n",
    "        for action in state.actions():\n",
    "            next_state = state.copy()\n",
    "            next_state.apply(action)\n",
    "            if next_state in states:\n",
    "                # State was visited.\n",
    "                to_idx = states.index(next_state)\n",
    "            else:\n",
    "                # Not visited yet, add to open.\n",
    "                states.append(next_state)\n",
    "                to_idx = len(states) - 1\n",
    "                opened.append(to_idx)\n",
    "    return states"
   ]
  },
  {
   "cell_type": "markdown",
   "metadata": {
    "id": "vUQCuttUrh6O"
   },
   "source": [
    "\n",
    "# Task 2\n",
    "\n",
    "Implement probability(**next_state**, **state**, **action**) method of transition model.\n",
    "\n",
    "In our deterministic case probability is always 1 (if **action** from **state** leads to **next_state**) or 0 (if not)."
   ]
  },
  {
   "cell_type": "code",
   "execution_count": null,
   "metadata": {
    "id": "2eGDJ5m6rh6P"
   },
   "outputs": [],
   "source": [
    "class TransitionModel(pomdp_py.TransitionModel):\n",
    "    \"\"\"\n",
    "    Models the distribution T(s, a, s') = Pr(s'|s,a).\n",
    "    In our deterministic case Pr(s'|s,a) is always 1 (if s,a goes to s') or 0 (if not).\n",
    "    \"\"\"\n",
    "\n",
    "    def probability(self, next_state: PomdpState, state: PomdpState, action: PomdpAction) -> float:\n",
    "        \"\"\"\n",
    "        Returns the probability of Pr(s'|s,a)\n",
    "        \"\"\"\n",
    "        raise NotImplemented()\n",
    "\n",
    "    def sample(self, state: PomdpState, action: PomdpAction) -> PomdpState:\n",
    "        '''\n",
    "        Given state and action, return next state.\n",
    "        '''\n",
    "        next_state = state.copy()\n",
    "        next_state.apply(action)\n",
    "        return next_state\n",
    "    \n",
    "    def get_all_states(self) -> List[PomdpState]:\n",
    "        return self.states"
   ]
  },
  {
   "cell_type": "code",
   "execution_count": null,
   "metadata": {
    "id": "MY0QJk--rh6P"
   },
   "outputs": [],
   "source": [
    "# Example. Try to predict the output values before running!\n",
    "\n",
    "tm = TransitionModel()\n",
    "\n",
    "state1 = PomdpState([\n",
    "    \"######\",\n",
    "    \"# ^ G#\",\n",
    "    \"######\"])\n",
    "\n",
    "state2 = PomdpState([\n",
    "    \"######\",\n",
    "    \"# > G#\",\n",
    "    \"######\"])\n",
    "\n",
    "print(tm.probability(state2, state1, PomdpAction(\"l\")))\n",
    "print(tm.probability(state2, state1, PomdpAction(\"r\")))\n",
    "print(tm.sample(state1, PomdpAction(\"l\")))\n"
   ]
  },
  {
   "cell_type": "markdown",
   "metadata": {
    "id": "LpXTapWjrh6P"
   },
   "source": [
    "# Task 3\n",
    "\n",
    "Implement sample(***state***, ***action***) method of reward model.\n",
    "\n",
    "If ***action*** leads to ***state*** with gold, reward is 1. In all other cases, reward is -0.1\n",
    "Hint: use gold attribute from Maze."
   ]
  },
  {
   "cell_type": "code",
   "execution_count": null,
   "metadata": {
    "id": "U25IqIkurh6P"
   },
   "outputs": [],
   "source": [
    "class RewardModel(pomdp_py.RewardModel):\n",
    "    \"\"\"\n",
    "    Models the distribution Pr(r|s, a).\n",
    "    In our case Pr(r|s,a) is 1 (if a leads to gold state) or 0 (if not).\n",
    "    \"\"\"\n",
    "\n",
    "    def sample(self, state: PomdpState, action: PomdpAction, next_state=None) -> float:\n",
    "        '''\n",
    "        Given state and action, return reward. Next state is ignored in our Maze env.\n",
    "        '''\n",
    "        raise NotImplemented()\n"
   ]
  },
  {
   "cell_type": "code",
   "execution_count": null,
   "metadata": {
    "id": "8eiAWq6Trh6Q"
   },
   "outputs": [],
   "source": [
    "# Example:\n",
    "\n",
    "rm = RewardModel()\n",
    "maze = PomdpState([\n",
    "    \"#####\",\n",
    "    \"# ^G#\",\n",
    "    \"#####\"])\n",
    "\n",
    "action = PomdpAction(\"r\")\n",
    "print(maze)\n",
    "print(f'Action {action} Reward {rm.sample(maze, action, None)}')\n",
    "maze.apply(action)\n",
    "print(maze)\n",
    "print('\\n')\n",
    "\n",
    "action = PomdpAction(\"m\")\n",
    "print(maze)\n",
    "print(f'Action {action} Reward {rm.sample(maze, action, None)}')\n",
    "maze.apply(action)\n",
    "print(maze)\n"
   ]
  },
  {
   "cell_type": "markdown",
   "metadata": {
    "id": "gbl16eu6rh6R"
   },
   "source": [
    "# Task 4\n",
    "\n",
    "\n",
    "Implement function observe(**state**).\n",
    "\n",
    "- Function should output string of 4 character based on building blocks of maze, i.e.  one of `'#', ' ', 'G'`\n",
    "- Example output: `\" # #\"`\n",
    "- Function output depends on the state and uses the direction of the agent. (Select characters clockwise, starting with the character in front of the agent.)\n"
   ]
  },
  {
   "cell_type": "markdown",
   "metadata": {
    "id": "bpTSt6j10uPZ"
   },
   "source": [
    "Examples. What are the observations of the agent?\n",
    "\n",
    "```\n",
    "##1##\n",
    "#4^2#\n",
    "##3##\n",
    "```\n",
    "\n",
    "\n",
    "\n",
    "```\n",
    "#####\n",
    "# ^G#\n",
    "#####\n",
    "```\n",
    "\n",
    "\n",
    "```\n",
    "#####\n",
    "# >G#\n",
    "#####\n",
    "```\n",
    "\n"
   ]
  },
  {
   "cell_type": "code",
   "execution_count": null,
   "metadata": {
    "id": "UFDPPgK_rh6R"
   },
   "outputs": [],
   "source": [
    "class ObservationModel(pomdp_py.ObservationModel):\n",
    "    '''\n",
    "    Models distribution O(s',a,o) = Pr(o|s',a)\n",
    "    In our case, observation does not depend on action -  Pr(o|s') (All actions leads to some observation).\n",
    "    Our Observation model is deterministic: Pr(o|s') is always 1 (if observation of s' matches o) or 0 (if not).\n",
    "    '''\n",
    "\n",
    "    def probability(self, observation: PomdpObservation, next_state: PomdpState, action: PomdpAction=None) -> float:\n",
    "        '''\n",
    "        Returns the probability Pr(o|s',a).\n",
    "        '''\n",
    "        next_state_observation = self.sample(next_state)\n",
    "        if next_state_observation == observation:\n",
    "            return 1.0\n",
    "        else:\n",
    "            return 0.0\n",
    "\n",
    "    def observe(self, state: PomdpState) -> str:\n",
    "        '''\n",
    "        Agent looks around clockwise and returns string of 4 characters.\n",
    "        '''\n",
    "        # TODO: implement.\n",
    "        raise NotImplementedError()\n",
    "        \n",
    "        \n",
    "    def sample(self, next_state: PomdpState, action: PomdpAction=None) -> PomdpObservation:\n",
    "        return PomdpObservation(self.observe(next_state))\n"
   ]
  },
  {
   "cell_type": "code",
   "execution_count": null,
   "metadata": {
    "id": "l45k9SZjrh6R"
   },
   "outputs": [],
   "source": [
    "def test_observation():\n",
    "    om = ObservationModel()\n",
    "    maze = PomdpState([\n",
    "        \"#####\",\n",
    "        \"# ^G#\",\n",
    "        \"#####\"])\n",
    "    assert str(om.sample(maze)) == '#G# '\n",
    "\n",
    "    maze = PomdpState([\n",
    "        \"#####\",\n",
    "        \"# >G#\",\n",
    "        \"#####\"])\n",
    "    assert str(om.sample(maze)) == 'G# #'\n",
    "\n",
    "    maze = PomdpState([\n",
    "        \"#####\",\n",
    "        \"# vG#\",\n",
    "        \"#####\"])\n",
    "    assert str(om.sample(maze)) == '# #G'\n",
    "\n",
    "    maze = PomdpState([\n",
    "        \"#####\",\n",
    "        \"# <G#\",\n",
    "        \"#####\"])\n",
    "    assert str(om.sample(maze)) == ' #G#'\n",
    "\n",
    "    assert om.probability(om.sample(maze), maze) == 1.\n",
    "\n",
    "test_observation()"
   ]
  },
  {
   "cell_type": "code",
   "execution_count": null,
   "metadata": {
    "id": "VdhLPT1srh6R"
   },
   "outputs": [],
   "source": [
    "# Example\n",
    "om = ObservationModel()\n",
    "maze = State([\n",
    "    \"####\",\n",
    "    \"#^ #\",\n",
    "    \"####\"])\n",
    "print(om.sample(maze))"
   ]
  },
  {
   "cell_type": "markdown",
   "metadata": {
    "id": "NwVXtWK2rh6S"
   },
   "source": [
    "## Example - Solve POMDPs using a solver\n",
    "\n",
    "- We will reuse models we defined before.\n",
    "- Agent is initialized with a belief distributed uniformly over all the states."
   ]
  },
  {
   "cell_type": "code",
   "execution_count": null,
   "metadata": {
    "id": "aHEZaWMnJpAw"
   },
   "outputs": [],
   "source": [
    "def solve(init_true_state: PomdpState, steps: int = 15, planning_time: float = 0.5, max_depth: int = 10):\n",
    "    states = get_all_states(init_true_state)\n",
    "    uniform_belief = {s: 1.0 / len(states) for s in states}\n",
    "    init_belief = pomdp_py.Histogram(uniform_belief)\n",
    "\n",
    "    # 1. Select Agent, Environment\n",
    "\n",
    "    # Initialize agent, environment\n",
    "    agent = pomdp_py.Agent(\n",
    "        init_belief, PolicyModel(), TransitionModel(), ObservationModel(), RewardModel()\n",
    "    )\n",
    "    env = pomdp_py.Environment(init_true_state, TransitionModel(), RewardModel())\n",
    "\n",
    "    # Initialize planners from library\n",
    "    planner = pomdp_py.POUCT(\n",
    "        max_depth=max_depth,\n",
    "        discount_factor=0.95,\n",
    "        planning_time=planning_time,\n",
    "        exploration_const=110,\n",
    "        rollout_policy=agent.policy_model,\n",
    "    )\n",
    "\n",
    "    for i in range(steps):\n",
    "        # 2. Agent plans an action at.\n",
    "        print(\"\\n####################################\")\n",
    "        print(f\"STEP {i}\")\n",
    "        print(\"####################################\\n\")\n",
    "        action = planner.plan(agent)\n",
    "        print(f\"True state: \\n{env.state}\\n\")\n",
    "        max_belief = agent.cur_belief.argmax()\n",
    "        max_belief_prob = agent.cur_belief[max_belief]\n",
    "        print(f\"Top Belief (Pr.= {round(max_belief_prob, 4)}) \\n{max_belief}\")\n",
    "        print(f\"Action: {str(action)}\")\n",
    "\n",
    "        # 3. Environment state transitions s_t -> s_t+1 according to its transition model.\n",
    "        reward = env.state_transition(action, execute=True)\n",
    "\n",
    "        # 4. Agent receives an observation ot and reward rt from the environment.\n",
    "        observation = agent.observation_model.sample(env.state, action)\n",
    "        print(f'Observation: \"{observation}\"')\n",
    "        print(f\"Reward: {round(reward, 4)}\")\n",
    "\n",
    "        # 5.Agent updates history and belief\n",
    "        agent.update_history(action, observation)\n",
    "        planner.update(agent, action, observation)\n",
    "        new_belief = pomdp_py.update_histogram_belief(\n",
    "            agent.cur_belief,\n",
    "            action,\n",
    "            observation,\n",
    "            agent.observation_model,\n",
    "            agent.transition_model,\n",
    "        )\n",
    "        agent.set_belief(new_belief)"
   ]
  },
  {
   "cell_type": "code",
   "execution_count": null,
   "metadata": {
    "id": "wo6x0Daxrh6S"
   },
   "outputs": [],
   "source": [
    "maze = PomdpState([\n",
    "    \"######\",\n",
    "    \"# #  #\",\n",
    "    \"# # G#\",\n",
    "    \"#^#  #\",\n",
    "    \"#   G#\",\n",
    "    \"######\"])\n",
    "\n",
    "solve(maze, steps=20, planning_time=1.0, max_depth=20)"
   ]
  },
  {
   "cell_type": "code",
   "execution_count": null,
   "metadata": {
    "id": "J-JKbtAyrh6S",
    "scrolled": true
   },
   "outputs": [],
   "source": [
    "# Start in the middle.\n",
    "# It takes some time for agent get reliable belief.\n",
    "\n",
    "maze = PomdpState([\n",
    "    \"######\",\n",
    "    \"#    #\",\n",
    "    \"# ^  #\",\n",
    "    \"#   G#\",\n",
    "    \"######\"])\n",
    "solve(maze, steps=15, planning_time=0.5, max_depth=20)"
   ]
  },
  {
   "cell_type": "code",
   "execution_count": null,
   "metadata": {
    "id": "cQXlbVoqrh6T",
    "scrolled": true
   },
   "outputs": [],
   "source": [
    "# Start near wall.\n",
    "# Agent quickly gets reliable belief.\n",
    "\n",
    "maze = PomdpState([\n",
    "    \"######\",\n",
    "    \"#^   #\",\n",
    "    \"#    #\",\n",
    "    \"#   G#\",\n",
    "    \"######\"])\n",
    "solve(maze, steps=15, planning_time=0.5, max_depth=20)"
   ]
  }
 ],
 "metadata": {
  "colab": {
   "collapsed_sections": [],
   "name": "lab3.ipynb",
   "provenance": []
  },
  "kernelspec": {
   "display_name": "Python 3 (ipykernel)",
   "language": "python",
   "name": "python3"
  },
  "language_info": {
   "codemirror_mode": {
    "name": "ipython",
    "version": 3
   },
   "file_extension": ".py",
   "mimetype": "text/x-python",
   "name": "python",
   "nbconvert_exporter": "python",
   "pygments_lexer": "ipython3",
   "version": "3.7.6"
  }
 },
 "nbformat": 4,
 "nbformat_minor": 4
}
